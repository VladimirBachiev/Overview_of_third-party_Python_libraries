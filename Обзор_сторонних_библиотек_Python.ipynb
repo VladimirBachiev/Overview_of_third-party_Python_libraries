{
 "cells": [
  {
   "cell_type": "markdown",
   "id": "f0061431631e9b56",
   "metadata": {},
   "source": [
    "# Библиотека Requests\n",
    "\n",
    "**Requests** — это популярная библиотека Python, предназначенная для работы с HTTP-запросами. Она обеспечивает простой и удобный интерфейс для отправки запросов и обработки ответов.\n"
   ]
  },
  {
   "cell_type": "code",
   "id": "dd664523ff3cce38",
   "metadata": {},
   "source": [
    "import requests\n",
    "\n",
    "# Сайт\n",
    "url = \"https://urban-university.ru/\"\n",
    "\n",
    "# Отправляем GET-запрос\n",
    "response = requests.get(url)\n",
    "\n",
    "# Проверяем статус запроса\n",
    "if response.status_code == 200:\n",
    "    print(f\"\\n\\033[92m✔ Запрос успешен!\\033[0m\")\n",
    "\n",
    "    # Выводим полученную информацию\n",
    "    print(f\"\\n\\033[96m📋 Заголовки ответа:\\033[0m\")\n",
    "    print(\"─\" * 50)\n",
    "    for header, value in response.headers.items():\n",
    "        print(f\"\\033[93m{header}:\\033[0m {value}\")\n",
    "    print(\"─\" * 50)\n",
    "\n",
    "    # Выводим полученный HTML-контент\n",
    "    print(f\"\\n\\033[96m🌐 Часть HTML-контента (первые 100 символов):\\033[0m\")\n",
    "    print(\"─\" * 50)\n",
    "    content_preview = response.text[:100]\n",
    "    print(f\"\\033[1m{content_preview}...\\033[0m\")\n",
    "    print(\"─\" * 50)\n",
    "else:\n",
    "    # Если произошла ошибка, выводим сообщение об ошибке и статус\n",
    "        print(f\"\\n\\033[91m❌ Ошибка при запросе: {response.status_code}\\033[0m\")"
   ],
   "outputs": [],
   "execution_count": null
  },
  {
   "cell_type": "markdown",
   "id": "ecad11b35d39fa1",
   "metadata": {},
   "source": [
    "---\n"
   ]
  },
  {
   "cell_type": "markdown",
   "id": "aac0c1e422a1c8f6",
   "metadata": {},
   "source": [
    "# Библиотека Pandas\n",
    "\n",
    "**Pandas** — это мощная библиотека Python, предназначенная для работы с данными. Она предоставляет высокоуровневые структуры данных и инструменты для анализа, обработки и визуализации данных."
   ]
  },
  {
   "cell_type": "code",
   "id": "45bd657c71cd7435",
   "metadata": {},
   "source": [
    "import pandas as pd\n",
    "\n",
    "# Читаем данные из CSV файла\n",
    "data = pd.read_csv('data.csv')\n",
    "\n",
    "print(\"\\n\\033[1;36m📊 АНАЛИЗ ДАННЫХ О СОТРУДНИКАХ\\033[0m\")\n",
    "print(\"\\033[90m\" + \"─\" * 50 + \"\\033[0m\")\n",
    "\n",
    "# Средний возраст\n",
    "average_age = data['Возраст'].mean()\n",
    "print(f\"\\033[1;33m👥 Средний возраст:\\033[0m {average_age:.1f} лет\")\n",
    "\n",
    "# Максимальный оклад\n",
    "max_salary = data['Оклад'].max()\n",
    "max_salary_person = data.loc[data['Оклад'] == max_salary, 'Имя'].values[0]\n",
    "print(f\"\\033[1;32m💰 Максимальный оклад:\\033[0m {max_salary:,} руб. (\\033[1m{max_salary_person}\\033[0m)\")\n",
    "\n",
    "# Количество людей старше 30\n",
    "count_above_30 = data[data['Возраст'] > 30].shape[0]\n",
    "print(f\"\\033[1;34m🎯 Количество сотрудников старше 30 лет:\\033[0m {count_above_30}\")\n",
    "\n",
    "print(\"\\033[90m\" + \"─\" * 50 + \"\\033[0m\")\n",
    "\n",
    "# Вывод всех данных\n",
    "print(\"\\n\\033[1;35m📋 Список сотрудников:\\033[0m\")\n",
    "for _, row in data.iterrows():\n",
    "    print(f\"\\033[1m{row['Имя']}\\033[0m - {row['Возраст']} лет, оклад: {row['Оклад']:,} руб.\")"
   ],
   "outputs": [],
   "execution_count": null
  },
  {
   "cell_type": "markdown",
   "id": "23c97547c94e1e58",
   "metadata": {},
   "source": [
    "---"
   ]
  },
  {
   "cell_type": "markdown",
   "id": "43e623559223fcce",
   "metadata": {},
   "source": [
    "# Библиотека NumPy\n",
    "**NumPy** — это библиотека Python, предназначенная для работы с многомерными массивами и матрицами, а также для выполнения различных математических операций. Она очень полезна для научных вычислений и анализа данных."
   ]
  },
  {
   "cell_type": "code",
   "id": "30c40fa605a37749",
   "metadata": {},
   "source": [
    "import numpy as np\n",
    "\n",
    "# Исходные массивы\n",
    "arr1 = np.array([1, 2, 3, 4, 5])\n",
    "arr2 = np.array([6, 7, 8, 9, 10])\n",
    "\n",
    "# Вывод результатов\n",
    "print(\"\\n\\033[1;36m📊 ОПЕРАЦИИ С NUMPY МАССИВАМИ\\033[0m\")\n",
    "print(\"\\033[90m\" + \"─\" * 50 + \"\\033[0m\")\n",
    "\n",
    "print(f\"\\033[1;33m📍 Массив 1:\\033[0m {arr1}\")\n",
    "print(f\"\\033[1;33m📍 Массив 2:\\033[0m {arr2}\")\n",
    "\n",
    "print(\"\\033[90m\" + \"─\" * 50 + \"\\033[0m\")\n",
    "print(\"\\033[1;32m🔢 Математические операции:\\033[0m\")\n",
    "print(f\"➕ Сумма массивов:                   {arr1 + arr2}\")\n",
    "print(f\"✖️ Произведение массивов:            {arr1 * arr2}\")\n",
    "print(f\"²️  Квадрат элементов массива 1:      {arr1 ** 2}\")\n",
    "\n",
    "# Для эстетики округляем до 2 знаков после запятой\n",
    "print(f\"√  Корень из элементов массива 2:    {np.round(np.sqrt(arr2), 2)}\")\n",
    "\n",
    "print(\"\\033[90m\" + \"─\" * 50 + \"\\033[0m\")\n",
    "print(\"\\033[1;34m📈 Статистика:\\033[0m\")\n",
    "print(f\"📊  Среднее значение массива 1:        {arr1.mean()}\")\n",
    "print(f\"⬆️  Максимальное значение массива 1:   {arr1.max()}\")\n",
    "print(f\"⬆️  Максимальное значение массива 2:   {arr2.max()}\")\n",
    "print(\"\\033[90m\" + \"─\" * 50 + \"\\033[0m\\n\")"
   ],
   "outputs": [],
   "execution_count": null
  },
  {
   "cell_type": "markdown",
   "id": "60aa6faa63e91e43",
   "metadata": {},
   "source": [
    "---"
   ]
  },
  {
   "cell_type": "markdown",
   "id": "5ea785f40d64e5e2",
   "metadata": {},
   "source": [
    "# Библиотека Matplotlib\n",
    "**Matplotlib** — это популярная библиотека для визуализации данных в Python. Она позволяет создавать статические, анимационные и интерактивные графики. Matplotlib широко используется в научных исследованиях, анализе данных и машинном обучении для визуализации результатов."
   ]
  },
  {
   "cell_type": "code",
   "id": "f07759e4c1ce8008",
   "metadata": {},
   "source": [
    "import numpy as np\n",
    "import matplotlib.pyplot as plt\n",
    "\n",
    "# Исходные массивы\n",
    "arr1 = np.array([1, 2, 3, 4, 5])\n",
    "arr2 = np.array([6, 7, 8, 9, 10])\n",
    "\n",
    "# Создание полотно для 4 графиков ax1, ax2, ax3, ax4\n",
    "fig, ((ax1, ax2), (ax3, ax4)) = plt.subplots(2, 2, figsize=(12, 8))\n",
    "\n",
    "# 1. Выводим столбчатую диаграмму\n",
    "x = np.arange(len(arr1))    # Создаем массив индексов [0, 1, 2, 3, 4]\n",
    "\n",
    "ax1.bar(x - 0.2, arr1, width=0.4, label='Массив 1', color='blue')   # Сдвинут влево на 0.2 от позиции x(x - 0.2)\n",
    "ax1.bar(x + 0.2, arr2, width=0.4, label='Массив 2', color='red')    # Сдвинут вправо на 0.2 от позиции x(x + 0.2)\n",
    "ax1.set_title('Сравнение массивов')\n",
    "ax1.set_xticks(x)\n",
    "ax1.legend()\n",
    "\n",
    "# 2. Линейный график\n",
    "ax2.plot(x, arr1 + arr2, 'g-', label='Сумма')\n",
    "ax2.plot(x, arr1 * arr2, 'r--', label='Произведение')\n",
    "ax2.set_title('Сумма и произведение массивов')\n",
    "ax2.legend()\n",
    "\n",
    "# 3. График разброса точек\n",
    "ax3.scatter(x, arr1 ** 2, color='purple', label='Квадрат Массива 1')\n",
    "ax3.set_title('Квадрат элементов первого массива')\n",
    "ax3.legend()\n",
    "\n",
    "# 4. Линейный график с маркерами\n",
    "ax4.plot(x, np.sqrt(arr2), 'orange', marker='o', label='Корень из Массива 2')\n",
    "ax4.set_title('Корень из элементов второго массива')\n",
    "ax4.legend()\n",
    "\n",
    "# Настройка общего вида\n",
    "plt.tight_layout()  # Автоматическая настройка расположения графиков\n",
    "#lt.show()  # Отображение графиков на экране\n",
    "\n",
    "\n",
    "# Дополнительная круговая диаграмма\n",
    "plt.figure(figsize=(8, 6))\n",
    "means = [arr1.mean(), arr2.mean()]  # Вычисляет средние значения массивов arr1 и arr2\n",
    "labels = ['Среднее Массив 1', 'Среднее Массива 2']   # Список меток для диаграммы\n",
    "\n",
    "\n",
    "# Создание круговой диаграммы\n",
    "# means - значения для секторов\n",
    "# labels - подписи секторов\n",
    "# autopct='%1.1f%%' - отображение процентов с одним знаком после запятой\n",
    "# colors - цвета секторов (голубой и светло-зеленый)\n",
    "plt.pie(means, labels=labels, autopct='%1.1f%%', colors=['lightblue', 'lightgreen'])\n",
    "plt.title('Соотношение средних значений массивов')\n",
    "plt.show()"
   ],
   "outputs": [],
   "execution_count": null
  },
  {
   "cell_type": "markdown",
   "id": "19e2fb35e0c11afd",
   "metadata": {},
   "source": [
    "---"
   ]
  },
  {
   "cell_type": "markdown",
   "id": "40d9eaccb58deeda",
   "metadata": {},
   "source": [
    "# Библиотека Pillow\n",
    "**Pillow** — это библиотека для обработки изображений в Python, которая является расширением библиотеки PIL (Python Imaging Library). Она позволяет открывать, изменять и сохранять изображения в различных форматах, а также выполнять множество операций с изображениями, таких как изменение размера, обрезка, поворот, применение фильтров и многое другое."
   ]
  },
  {
   "cell_type": "code",
   "id": "fcf2a27c8ee097f",
   "metadata": {},
   "source": [
    "from PIL import Image, ImageEnhance, ImageFilter\n",
    "import matplotlib.pyplot as plt\n",
    "\n",
    "def process_image(input_images, output_images):\n",
    "    # Открываем изображение из указанного пути\n",
    "    img = Image.open(input_images)\n",
    "\n",
    "    # Вывод оригинального изображения\n",
    "    plt.title(\"Исходное изображение\")\n",
    "    plt.imshow(img)     # Вывожу именно так, потому что мой linux выделывается,\n",
    "    plt.axis('off')     # пытается открыть как папку и т.п.\n",
    "    plt.show()          # Пока не победил, но так даже красивей и наглядней\n",
    "\n",
    "    # Переводим изображение в черно-белое\n",
    "    img = img.convert('L')\n",
    "    plt.title(\"Черно белое\")\n",
    "    plt.imshow(img, cmap='gray')\n",
    "    plt.axis('off')\n",
    "    plt.show()\n",
    "\n",
    "    # Задаем новый размер изображения\n",
    "    new_size = (600, 200)\n",
    "    resized_img = img.resize(new_size)\n",
    "\n",
    "\n",
    "    # Создаем объект для регулировки контрастности\n",
    "    enhancer = ImageEnhance.Contrast(resized_img)\n",
    "    # Увеличиваем контрастность в 2.5 раза\n",
    "    contrasted_img = enhancer.enhance(2.5)\n",
    "\n",
    "    # Применяем размытие по Гауссу с радиусом 1\n",
    "    blurred_img = contrasted_img.filter(ImageFilter.GaussianBlur(radius=1))\n",
    "\n",
    "    # Применяем фильтр увеличения резкости\n",
    "    final_img = blurred_img.filter(ImageFilter.SHARPEN)\n",
    "\n",
    "    final_img = final_img.convert('L')\n",
    "\n",
    "\n",
    "        # Показываем обработанное изображение\n",
    "    plt.title(\"Обработанное изображение\")\n",
    "    plt.imshow(final_img)\n",
    "    plt.axis('off')\n",
    "    plt.show()\n",
    "\n",
    "    # Сохраняем результат в формате PNG\n",
    "    final_img.save(output_images, 'PNG')\n",
    "\n",
    "\n",
    "if __name__ == \"__main__\":\n",
    "    # Определяем исходный и конечный файл\n",
    "    input_image = \"python.jpeg\"\n",
    "    output_image = \"final_output.png\"\n",
    "\n",
    "# Вызываем функцию обработки изображения\n",
    "    process_image(input_image, output_image)"
   ],
   "outputs": [],
   "execution_count": null
  }
 ],
 "metadata": {
  "kernelspec": {
   "display_name": ".venv",
   "language": "python",
   "name": "python3"
  },
  "language_info": {
   "codemirror_mode": {
    "name": "ipython",
    "version": 3
   },
   "file_extension": ".py",
   "mimetype": "text/x-python",
   "name": "python",
   "nbconvert_exporter": "python",
   "pygments_lexer": "ipython3",
   "version": "3.12.3"
  }
 },
 "nbformat": 4,
 "nbformat_minor": 5
}
